{
 "cells": [
  {
   "cell_type": "code",
   "execution_count": null,
   "metadata": {},
   "outputs": [],
   "source": [
    "from bs4 import BeautifulSoup\n",
    "from selenium import webdriver \n",
    "from selenium.webdriver.chrome.options import Options\n",
    "import re \n",
    "import urllib\n",
    "import time"
   ]
  },
  {
   "cell_type": "code",
   "execution_count": null,
   "metadata": {},
   "outputs": [],
   "source": [
    "#create a webdriver object and set options for headless browsing\n",
    "options = Options()\n",
    "options.headless = True\n",
    "driver = webdriver.Chrome('./chromedriver',options=options)"
   ]
  },
  {
   "cell_type": "code",
   "execution_count": null,
   "metadata": {},
   "outputs": [],
   "source": [
    "#uses webdriver object to execute javascript code and get dynamically loaded webcontent\n",
    "def get_js_soup(url,driver):\n",
    "    driver.get(url)\n",
    "    res_html = driver.execute_script('return document.body.innerHTML')\n",
    "    soup = BeautifulSoup(res_html,'html.parser') #beautiful soup object to be used for parsing html content\n",
    "    return soup\n",
    "\n",
    "\n",
    "#tidies extracted text \n",
    "def process_reviews(reviews):\n",
    "    reviews = reviews.encode('ascii',errors='ignore').decode('utf-8')       #removes non-ascii characters\n",
    "    reviews = re.sub('\\s+',' ',news)       #repalces repeated whitespace characters with single space\n",
    "    reviews = re.sub(r'[^\\w\\s]', '', news) # Removing punctuations in string \n",
    "    return reviews\n",
    "\n",
    "''' More tidying\n",
    "Sometimes the text extracted HTML webpage may contain javascript code and some style elements. \n",
    "This function removes script and style tags from HTML so that extracted text does not contain them.\n",
    "'''\n",
    "def remove_script(soup):\n",
    "    for script in soup([\"script\", \"style\"]):\n",
    "        script.decompose()\n",
    "    return soup"
   ]
  },
  {
   "cell_type": "code",
   "execution_count": null,
   "metadata": {},
   "outputs": [],
   "source": [
    "def get_urls(url_doc_path):\n",
    "    \n",
    "    with open(url_doc_path) as f:\n",
    "        urls = f.readlines()\n",
    "        # you may also want to remove whitespace characters like `\\n` at the end of each line\n",
    "    urls = [x.strip() for x in urls]\n",
    "    print(urls)\n",
    "    return urls"
   ]
  },
  {
   "cell_type": "code",
   "execution_count": 1,
   "metadata": {},
   "outputs": [],
   "source": [
    "def scrape_reviews(url, driver):\n",
    "    soup = get_js_soup(url,driver)\n",
    "    reviews = []\n",
    "    \n",
    "    if 'macbook' in url:\n",
    "        reviews.append('0')\n",
    "    \n",
    "    if 'inspiron' in url:\n",
    "        reviews.append('1')\n",
    "        \n",
    "    if 'pavilion' in url:\n",
    "        reviews.append('2')\n",
    "    \n",
    "    cands = soup.find_all('div', class_=\"review-content-wrapper\")\n",
    "    for cand in cands:\n",
    "        review = process_reviews(cand.find('p').get_text(seperator=' ').lower())\n",
    "        reviews.append(review)\n",
    "        \n",
    "    print(reviews)\n",
    "    return reviews"
   ]
  },
  {
   "cell_type": "code",
   "execution_count": null,
   "metadata": {},
   "outputs": [],
   "source": [
    "reviews_list = []\n",
    "urls = get_urls('reviews_url.txt')\n",
    "for url in urls:\n",
    "    reviews = scrape_reviews(url, driver)\n",
    "    for review in reviews:\n",
    "        reviews_list.append(review)\n",
    "    \n",
    "driver.close()"
   ]
  },
  {
   "cell_type": "code",
   "execution_count": null,
   "metadata": {},
   "outputs": [],
   "source": [
    "def write_lst(lst,file_):\n",
    "    with open(file_,'w') as f:\n",
    "        for l in lst:\n",
    "            f.write(l)\n",
    "            f.write('\\n')"
   ]
  },
  {
   "cell_type": "code",
   "execution_count": null,
   "metadata": {},
   "outputs": [],
   "source": [
    "reviews_content_file = 'laptop_reviews.txt'\n",
    "write_lst(reviews_list, reviews_content_file)"
   ]
  }
 ],
 "metadata": {
  "kernelspec": {
   "display_name": "Python 3",
   "language": "python",
   "name": "python3"
  },
  "language_info": {
   "codemirror_mode": {
    "name": "ipython",
    "version": 3
   },
   "file_extension": ".py",
   "mimetype": "text/x-python",
   "name": "python",
   "nbconvert_exporter": "python",
   "pygments_lexer": "ipython3",
   "version": "3.8.3"
  }
 },
 "nbformat": 4,
 "nbformat_minor": 4
}
